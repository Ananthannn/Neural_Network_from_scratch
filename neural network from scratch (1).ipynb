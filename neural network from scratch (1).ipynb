{
 "cells": [
  {
   "cell_type": "code",
   "execution_count": 49,
   "id": "3df852b0-8fa2-4a79-8c64-922322e90313",
   "metadata": {},
   "outputs": [],
   "source": [
    "import numpy as np \n",
    "from tensorflow import keras\n",
    "import tensorflow as tf\n",
    "from tensorflow.keras.utils import to_categorical"
   ]
  },
  {
   "cell_type": "code",
   "execution_count": 53,
   "id": "9bdb448c-a881-4ff8-a6ea-08adce5ec79a",
   "metadata": {},
   "outputs": [],
   "source": [
    "# activation functions \n",
    "class activation:\n",
    "    def __init__(self):\n",
    "        pass\n",
    "        \n",
    "    # the relu\n",
    "    def relu(self, z):\n",
    "        return np.maximum(0, z)\n",
    "\n",
    "    # the derivative of relu\n",
    "    def deriv_relu(self, z):\n",
    "        return z > 0\n",
    "            \n",
    "    # the sigmoid\n",
    "    def sigmoid(self, z):\n",
    "        return 1 / (1 + np.exp(-z))\n",
    "        \n",
    "    # derivative of sigmoid\n",
    "    def deriv_sigmoid(self, z):\n",
    "        sig = self.sigmoid(z)\n",
    "        return sig * (1 - sig)\n",
    "          \n",
    "    # the softmax\n",
    "    def softmax(self, z):\n",
    "        exp_values = np.exp(z - np.max(z , axis = 1 , keepdims = True))\n",
    "        return exp_values / np.sum(exp_values , axis = 1 , keepdims = True)\n",
    "\n",
    "    def tanh(self,z):\n",
    "        return np.tanh(z)\n",
    "    \n",
    "activate = activation()"
   ]
  },
  {
   "cell_type": "code",
   "execution_count": 55,
   "id": "6b566446-8b6d-4f1b-ae78-8bf762e3e88e",
   "metadata": {},
   "outputs": [],
   "source": [
    "# layers \n",
    "class layer_dense:\n",
    "    def __init__(self, n_of_input, n_of_neuron, activation=None): # give number of columns of one input as n_of_input\n",
    "        self.weights = np.random.randn(n_of_input, n_of_neuron) * 0.20\n",
    "        self.bias = np.random.randn(1, n_of_neuron)\n",
    "        self.activation = activation\n",
    "        \n",
    "    def forward_prop(self, input):\n",
    "        self.input = input\n",
    "        self.out = np.dot(input, self.weights) + self.bias\n",
    "        if self.activation:\n",
    "            self.out = self.activation(self.out)\n",
    "        return self.out\n",
    "\n",
    "    def backward_prop(self, dervLoss_by_dervOut, learningrate):\n",
    "        if self.activation == activate.relu:\n",
    "            dervLoss_by_dervOut = dervLoss_by_dervOut * activate.deriv_relu(self.out)\n",
    "        elif self.activation == activate.sigmoid:\n",
    "            dervLoss_by_dervOut = dervLoss_by_dervOut * activate.deriv_sigmoid(self.out)\n",
    "            \n",
    "        dL_dinput = np.dot(dervLoss_by_dervOut, self.weights.T)\n",
    "        dL_dweights = np.dot(self.input.T, dervLoss_by_dervOut)\n",
    "        dL_dbias = np.sum(dervLoss_by_dervOut, axis=0, keepdims=True)\n",
    "        \n",
    "        self.weights -= learningrate * dL_dweights\n",
    "        self.bias -= learningrate * dL_dbias\n",
    "\n",
    "        return dL_dinput"
   ]
  },
  {
   "cell_type": "code",
   "execution_count": 57,
   "id": "c4b665e7-2934-41da-bd3e-34c00fb0032e",
   "metadata": {},
   "outputs": [],
   "source": [
    "#loss function \n",
    "class Loss:\n",
    "    def __init__(self):\n",
    "        pass\n",
    "\n",
    "    def log_loss(self, predicted_y, known_y):\n",
    "        predicted_y = np.clip(predicted_y, 1e-15, 1 - 1e-15)\n",
    "        return -np.sum(known_y * np.log(predicted_y)) / predicted_y.shape[0]\n",
    "\n",
    "    def derivative_log_loss(self, predicted_y, known_y):\n",
    "        return (predicted_y - known_y) / predicted_y.shape[0]\n",
    "\n",
    "losses = Loss()"
   ]
  },
  {
   "cell_type": "code",
   "execution_count": 59,
   "id": "a1e1e472-96b6-4ded-a4fd-302cbf10fe8e",
   "metadata": {},
   "outputs": [],
   "source": [
    "class NeuralNetwork:\n",
    "    def __init__(self):\n",
    "        self.layer_holder = []\n",
    "\n",
    "    def add_layer(self, layer):\n",
    "        self.layer_holder.append(layer)\n",
    "\n",
    "    def forward(self, X):\n",
    "        for layer in self.layer_holder:\n",
    "            X = layer.forward_prop(X)\n",
    "        return X\n",
    "\n",
    "    def backward(self, X, predicted_y, known_y, learningrate):\n",
    "        dervLoss_by_dervOut = losses.derivative_log_loss(predicted_y, known_y)\n",
    "        for layer in reversed(self.layer_holder):\n",
    "            dervLoss_by_dervOut = layer.backward_prop(dervLoss_by_dervOut, learningrate)\n",
    "\n",
    "    def train(self, X, Y, epochs, learningrate):\n",
    "        for epoch in range(epochs):\n",
    "            predicted_Y = self.forward(X)\n",
    "            loss = losses.log_loss(predicted_y = predicted_Y, known_y = Y)\n",
    "            self.backward(X, predicted_Y, Y, learningrate)\n",
    "            predictions = predicted_Y \n",
    "            accuracy = np.mean(np.argmax(predictions, axis=1) == np.argmax(Y, axis=1))\n",
    "            print(f\"epoch = {epoch}, loss = {loss}, accuracy = {accuracy}\")\n",
    "\n",
    "    def predict(self, X):\n",
    "        predictions = self.forward(X)\n",
    "        return predictions\n"
   ]
  },
  {
   "cell_type": "code",
   "execution_count": 90,
   "id": "4159ee49-9c32-4c39-9a24-1d03442c1e25",
   "metadata": {
    "scrolled": true
   },
   "outputs": [
    {
     "name": "stdout",
     "output_type": "stream",
     "text": [
      "7840000\n"
     ]
    }
   ],
   "source": [
    "#dataset loading and preprocessing\n",
    "(x_train , y_train) , (x_test , y_test) = keras.datasets.mnist.load_data()\n",
    "\n",
    "x_train = x_train.astype('float32')/255\n",
    "x_test = x_test.astype('float32')/255\n",
    "x_train = x_train.reshape(len(x_train) , 784)\n",
    "x_test = x_test.reshape(len(x_test) , 784)\n",
    "\n",
    "#y_train = to_categorical(y_train)\n",
    "y_train = to_categorical(y_train)\n",
    "y_test = to_categorical(y_test)"
   ]
  },
  {
   "cell_type": "code",
   "execution_count": 84,
   "id": "6767c388-92a3-4034-9f6d-b7466ac25fac",
   "metadata": {},
   "outputs": [
    {
     "name": "stdout",
     "output_type": "stream",
     "text": [
      "epoch = 0, loss = 2.7782165262845986, accuracy = 0.10728333333333333\n",
      "epoch = 1, loss = 2.634894622583961, accuracy = 0.10936666666666667\n",
      "epoch = 2, loss = 2.5708261860915886, accuracy = 0.12645\n",
      "epoch = 3, loss = 2.5282243609943835, accuracy = 0.13811666666666667\n",
      "epoch = 4, loss = 2.502375083410796, accuracy = 0.1454\n",
      "epoch = 5, loss = 2.486410538914757, accuracy = 0.15165\n",
      "epoch = 6, loss = 2.475924489024254, accuracy = 0.15705\n",
      "epoch = 7, loss = 2.4691167909805434, accuracy = 0.16271666666666668\n",
      "epoch = 8, loss = 2.4642623973877096, accuracy = 0.16808333333333333\n",
      "epoch = 9, loss = 2.460683921434794, accuracy = 0.17255\n",
      "Predictions:\n",
      "[[0.07267773 0.02958725 0.12124282 ... 0.32922135 0.01345164 0.13955361]\n",
      " [0.10996502 0.04365723 0.2494111  ... 0.22058544 0.01685036 0.10313953]\n",
      " [0.07708237 0.03818584 0.22219475 ... 0.2096391  0.0176792  0.12817552]\n",
      " ...\n",
      " [0.0673864  0.03006234 0.19251616 ... 0.19577373 0.02352078 0.19595683]\n",
      " [0.09383983 0.0387987  0.23306911 ... 0.20404022 0.01938197 0.12749552]\n",
      " [0.08424391 0.0374355  0.22528749 ... 0.19900401 0.01980424 0.13441346]]\n"
     ]
    }
   ],
   "source": [
    "nn = NeuralNetwork()\n",
    "nn.add_layer(layer_dense(784, 800, activate.tanh))\n",
    "nn.add_layer(layer_dense(800, 3000, activate.tanh))\n",
    "nn.add_layer(layer_dense(3000, 30, activate.tanh))\n",
    "nn.add_layer(layer_dense(30, 10, activate.tanh))\n",
    "nn.add_layer(layer_dense(10, 10, activate.softmax))\n",
    "\n",
    "nn.train(x_train, y_train, 10, 0.01)\n",
    "\n",
    "# Predict on the training data\n",
    "predictions = nn.predict(x_test)\n",
    "print(\"Predictions:\")\n",
    "print(predictions)"
   ]
  },
  {
   "cell_type": "code",
   "execution_count": 106,
   "id": "f3dbafe8-6c66-407a-adab-78d2326a83b1",
   "metadata": {},
   "outputs": [
    {
     "data": {
      "image/png": "[encoded data removed]",
      "text/plain": [
       "<Figure size 480x480 with 1 Axes>"
      ]
     },
     "metadata": {},
     "output_type": "display_data"
    }
   ],
   "source": [
    "# to test\n",
    "import matplotlib.pyplot as plt\n",
    "\n",
    "plt.matshow(x_test[1].reshape(28,28))\n",
    "plt.show()"
   ]
  },
  {
   "cell_type": "code",
   "execution_count": 108,
   "id": "c233a998-c4f2-4573-b119-9348381e2905",
   "metadata": {},
   "outputs": [
    {
     "name": "stdout",
     "output_type": "stream",
     "text": [
      "2\n"
     ]
    }
   ],
   "source": [
    "print(np.argmax(predictions[1]))"
   ]
  },
  {
   "cell_type": "code",
   "execution_count": null,
   "id": "19720803-13a2-4aa1-8800-1875433b3c2c",
   "metadata": {},
   "outputs": [],
   "source": []
  },
  {
   "cell_type": "code",
   "execution_count": null,
   "id": "254e2837-3ee3-4779-8e5d-461998db10b0",
   "metadata": {},
   "outputs": [],
   "source": []
  },
  {
   "cell_type": "code",
   "execution_count": null,
   "id": "a6cd98ff-6062-4f24-a187-dcaaf521cc43",
   "metadata": {},
   "outputs": [],
   "source": []
  },
  {
   "cell_type": "code",
   "execution_count": null,
   "id": "190a39e3-b395-4646-b103-546a9ea005ee",
   "metadata": {},
   "outputs": [],
   "source": []
  },
  {
   "cell_type": "code",
   "execution_count": null,
   "id": "1bab1243-9338-4382-82f2-ee3baf7bd90d",
   "metadata": {},
   "outputs": [],
   "source": []
  },
  {
   "cell_type": "code",
   "execution_count": null,
   "id": "24b6e85e-daa6-4249-be85-c609b4f60b67",
   "metadata": {},
   "outputs": [],
   "source": []
  },
  {
   "cell_type": "code",
   "execution_count": null,
   "id": "25053d8c-01e1-4a34-8f58-1a1336ca6483",
   "metadata": {},
   "outputs": [],
   "source": []
  },
  {
   "cell_type": "code",
   "execution_count": null,
   "id": "4374c473-01d4-434a-8126-36d35dbea678",
   "metadata": {},
   "outputs": [],
   "source": []
  }
 ],
 "metadata": {
  "kernelspec": {
   "display_name": "Python 3 (ipykernel)",
   "language": "python",
   "name": "python3"
  },
  "language_info": {
   "codemirror_mode": {
    "name": "ipython",
    "version": 3
   },
   "file_extension": ".py",
   "mimetype": "text/x-python",
   "name": "python",
   "nbconvert_exporter": "python",
   "pygments_lexer": "ipython3",
   "version": "3.11.7"
  }
 },
 "nbformat": 4,
 "nbformat_minor": 5
}
